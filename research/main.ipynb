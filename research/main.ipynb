{
 "cells": [
  {
   "cell_type": "code",
   "execution_count": 1,
   "id": "f8950486",
   "metadata": {},
   "outputs": [],
   "source": [
    "from langgraph.types import Command\n",
    "import os\n",
    "os.chdir(\"../\")"
   ]
  },
  {
   "cell_type": "code",
   "execution_count": 2,
   "id": "6ec87ed4",
   "metadata": {},
   "outputs": [],
   "source": [
    "from interviewBot.graph import build_graph, build_workflow"
   ]
  },
  {
   "cell_type": "code",
   "execution_count": 3,
   "id": "766ce454",
   "metadata": {},
   "outputs": [],
   "source": [
    "wf = build_workflow()\n",
    "compiled_wf = wf.compile()"
   ]
  },
  {
   "cell_type": "code",
   "execution_count": 4,
   "id": "95f41e08",
   "metadata": {},
   "outputs": [
    {
     "name": "stdout",
     "output_type": "stream",
     "text": [
      "Nodes: dict_keys(['__start__', 'init_sess_node', 'user_verify_interrupt_node', 'user_verify_node', 'questions_node', 'error_handler_node', 'get_answer_node', 'evaluate_node', 'difficulty_adaptive_node', 'report_node', 'finalizer_node'])\n"
     ]
    }
   ],
   "source": [
    "print(\"Nodes:\", compiled_wf.nodes.keys())"
   ]
  },
  {
   "cell_type": "code",
   "execution_count": 5,
   "id": "fd4e13a0",
   "metadata": {},
   "outputs": [
    {
     "name": "stdout",
     "output_type": "stream",
     "text": [
      "---\n",
      "config:\n",
      "  flowchart:\n",
      "    curve: linear\n",
      "---\n",
      "graph TD;\n",
      "\t__start__([<p>__start__</p>]):::first\n",
      "\tinit_sess_node(init_sess_node)\n",
      "\tuser_verify_interrupt_node(user_verify_interrupt_node)\n",
      "\tuser_verify_node(user_verify_node)\n",
      "\tquestions_node(questions_node)\n",
      "\terror_handler_node(error_handler_node)\n",
      "\tget_answer_node(get_answer_node)\n",
      "\tevaluate_node(evaluate_node)\n",
      "\tdifficulty_adaptive_node(difficulty_adaptive_node)\n",
      "\treport_node(report_node)\n",
      "\tfinalizer_node(finalizer_node)\n",
      "\t__end__([<p>__end__</p>]):::last\n",
      "\t__start__ --> init_sess_node;\n",
      "\tdifficulty_adaptive_node --> questions_node;\n",
      "\terror_handler_node -. &nbsp;end_graph&nbsp; .-> __end__;\n",
      "\terror_handler_node -. &nbsp;user_verify_node&nbsp; .-> user_verify_interrupt_node;\n",
      "\tevaluate_node -. &nbsp;adaptive&nbsp; .-> difficulty_adaptive_node;\n",
      "\tevaluate_node -. &nbsp;report&nbsp; .-> report_node;\n",
      "\tget_answer_node --> evaluate_node;\n",
      "\tinit_sess_node --> user_verify_interrupt_node;\n",
      "\tquestions_node --> get_answer_node;\n",
      "\treport_node --> finalizer_node;\n",
      "\tuser_verify_interrupt_node --> user_verify_node;\n",
      "\tuser_verify_node -. &nbsp;error_handler&nbsp; .-> error_handler_node;\n",
      "\tuser_verify_node -. &nbsp;questions&nbsp; .-> questions_node;\n",
      "\tfinalizer_node --> __end__;\n",
      "\tclassDef default fill:#f2f0ff,line-height:1.2\n",
      "\tclassDef first fill-opacity:0\n",
      "\tclassDef last fill:#bfb6fc\n",
      "\n"
     ]
    }
   ],
   "source": [
    "print(compiled_wf.get_graph().draw_mermaid())"
   ]
  },
  {
   "cell_type": "code",
   "execution_count": 6,
   "id": "e25de483",
   "metadata": {},
   "outputs": [],
   "source": [
    "from IPython.display import display, Image\n",
    "from langchain_core.runnables.graph import MermaidDrawMethod"
   ]
  },
  {
   "cell_type": "code",
   "execution_count": 7,
   "id": "e53ef728",
   "metadata": {},
   "outputs": [
    {
     "ename": "ValueError",
     "evalue": "Failed to reach https://mermaid.ink/ API while trying to render your graph. Status code: 502.\n\nTo resolve this issue:\n1. Check your internet connection and try again\n2. Try with higher retry settings: `draw_mermaid_png(..., max_retries=5, retry_delay=2.0)`\n3. Use the Pyppeteer rendering method which will render your graph locally in a browser: `draw_mermaid_png(..., draw_method=MermaidDrawMethod.PYPPETEER)`",
     "output_type": "error",
     "traceback": [
      "\u001b[31m---------------------------------------------------------------------------\u001b[39m",
      "\u001b[31mValueError\u001b[39m                                Traceback (most recent call last)",
      "\u001b[36mCell\u001b[39m\u001b[36m \u001b[39m\u001b[32mIn[7]\u001b[39m\u001b[32m, line 3\u001b[39m\n\u001b[32m      1\u001b[39m display(\n\u001b[32m      2\u001b[39m     Image(\n\u001b[32m----> \u001b[39m\u001b[32m3\u001b[39m         \u001b[43mcompiled_wf\u001b[49m\u001b[43m.\u001b[49m\u001b[43mget_graph\u001b[49m\u001b[43m(\u001b[49m\u001b[43m)\u001b[49m\u001b[43m.\u001b[49m\u001b[43mdraw_mermaid_png\u001b[49m\u001b[43m(\u001b[49m\n\u001b[32m      4\u001b[39m \u001b[43m            \u001b[49m\u001b[43mdraw_method\u001b[49m\u001b[43m \u001b[49m\u001b[43m=\u001b[49m\u001b[43m \u001b[49m\u001b[43mMermaidDrawMethod\u001b[49m\u001b[43m.\u001b[49m\u001b[43mAPI\u001b[49m\n\u001b[32m      5\u001b[39m \u001b[43m        \u001b[49m\u001b[43m)\u001b[49m\n\u001b[32m      6\u001b[39m     )\n\u001b[32m      7\u001b[39m )\n",
      "\u001b[36mFile \u001b[39m\u001b[32mc:\\Users\\rahul\\Desktop\\Coding Assignment\\excel-interview-bot\\.venv\\Lib\\site-packages\\langchain_core\\runnables\\graph.py:702\u001b[39m, in \u001b[36mGraph.draw_mermaid_png\u001b[39m\u001b[34m(self, curve_style, node_colors, wrap_label_n_words, output_file_path, draw_method, background_color, padding, max_retries, retry_delay, frontmatter_config)\u001b[39m\n\u001b[32m    692\u001b[39m \u001b[38;5;28;01mfrom\u001b[39;00m\u001b[38;5;250m \u001b[39m\u001b[34;01mlangchain_core\u001b[39;00m\u001b[34;01m.\u001b[39;00m\u001b[34;01mrunnables\u001b[39;00m\u001b[34;01m.\u001b[39;00m\u001b[34;01mgraph_mermaid\u001b[39;00m\u001b[38;5;250m \u001b[39m\u001b[38;5;28;01mimport\u001b[39;00m (  \u001b[38;5;66;03m# noqa: PLC0415\u001b[39;00m\n\u001b[32m    693\u001b[39m     draw_mermaid_png,\n\u001b[32m    694\u001b[39m )\n\u001b[32m    696\u001b[39m mermaid_syntax = \u001b[38;5;28mself\u001b[39m.draw_mermaid(\n\u001b[32m    697\u001b[39m     curve_style=curve_style,\n\u001b[32m    698\u001b[39m     node_colors=node_colors,\n\u001b[32m    699\u001b[39m     wrap_label_n_words=wrap_label_n_words,\n\u001b[32m    700\u001b[39m     frontmatter_config=frontmatter_config,\n\u001b[32m    701\u001b[39m )\n\u001b[32m--> \u001b[39m\u001b[32m702\u001b[39m \u001b[38;5;28;01mreturn\u001b[39;00m \u001b[43mdraw_mermaid_png\u001b[49m\u001b[43m(\u001b[49m\n\u001b[32m    703\u001b[39m \u001b[43m    \u001b[49m\u001b[43mmermaid_syntax\u001b[49m\u001b[43m=\u001b[49m\u001b[43mmermaid_syntax\u001b[49m\u001b[43m,\u001b[49m\n\u001b[32m    704\u001b[39m \u001b[43m    \u001b[49m\u001b[43moutput_file_path\u001b[49m\u001b[43m=\u001b[49m\u001b[43moutput_file_path\u001b[49m\u001b[43m,\u001b[49m\n\u001b[32m    705\u001b[39m \u001b[43m    \u001b[49m\u001b[43mdraw_method\u001b[49m\u001b[43m=\u001b[49m\u001b[43mdraw_method\u001b[49m\u001b[43m,\u001b[49m\n\u001b[32m    706\u001b[39m \u001b[43m    \u001b[49m\u001b[43mbackground_color\u001b[49m\u001b[43m=\u001b[49m\u001b[43mbackground_color\u001b[49m\u001b[43m,\u001b[49m\n\u001b[32m    707\u001b[39m \u001b[43m    \u001b[49m\u001b[43mpadding\u001b[49m\u001b[43m=\u001b[49m\u001b[43mpadding\u001b[49m\u001b[43m,\u001b[49m\n\u001b[32m    708\u001b[39m \u001b[43m    \u001b[49m\u001b[43mmax_retries\u001b[49m\u001b[43m=\u001b[49m\u001b[43mmax_retries\u001b[49m\u001b[43m,\u001b[49m\n\u001b[32m    709\u001b[39m \u001b[43m    \u001b[49m\u001b[43mretry_delay\u001b[49m\u001b[43m=\u001b[49m\u001b[43mretry_delay\u001b[49m\u001b[43m,\u001b[49m\n\u001b[32m    710\u001b[39m \u001b[43m\u001b[49m\u001b[43m)\u001b[49m\n",
      "\u001b[36mFile \u001b[39m\u001b[32mc:\\Users\\rahul\\Desktop\\Coding Assignment\\excel-interview-bot\\.venv\\Lib\\site-packages\\langchain_core\\runnables\\graph_mermaid.py:310\u001b[39m, in \u001b[36mdraw_mermaid_png\u001b[39m\u001b[34m(mermaid_syntax, output_file_path, draw_method, background_color, padding, max_retries, retry_delay)\u001b[39m\n\u001b[32m    304\u001b[39m     img_bytes = asyncio.run(\n\u001b[32m    305\u001b[39m         _render_mermaid_using_pyppeteer(\n\u001b[32m    306\u001b[39m             mermaid_syntax, output_file_path, background_color, padding\n\u001b[32m    307\u001b[39m         )\n\u001b[32m    308\u001b[39m     )\n\u001b[32m    309\u001b[39m \u001b[38;5;28;01melif\u001b[39;00m draw_method == MermaidDrawMethod.API:\n\u001b[32m--> \u001b[39m\u001b[32m310\u001b[39m     img_bytes = \u001b[43m_render_mermaid_using_api\u001b[49m\u001b[43m(\u001b[49m\n\u001b[32m    311\u001b[39m \u001b[43m        \u001b[49m\u001b[43mmermaid_syntax\u001b[49m\u001b[43m,\u001b[49m\n\u001b[32m    312\u001b[39m \u001b[43m        \u001b[49m\u001b[43moutput_file_path\u001b[49m\u001b[43m=\u001b[49m\u001b[43moutput_file_path\u001b[49m\u001b[43m,\u001b[49m\n\u001b[32m    313\u001b[39m \u001b[43m        \u001b[49m\u001b[43mbackground_color\u001b[49m\u001b[43m=\u001b[49m\u001b[43mbackground_color\u001b[49m\u001b[43m,\u001b[49m\n\u001b[32m    314\u001b[39m \u001b[43m        \u001b[49m\u001b[43mmax_retries\u001b[49m\u001b[43m=\u001b[49m\u001b[43mmax_retries\u001b[49m\u001b[43m,\u001b[49m\n\u001b[32m    315\u001b[39m \u001b[43m        \u001b[49m\u001b[43mretry_delay\u001b[49m\u001b[43m=\u001b[49m\u001b[43mretry_delay\u001b[49m\u001b[43m,\u001b[49m\n\u001b[32m    316\u001b[39m \u001b[43m    \u001b[49m\u001b[43m)\u001b[49m\n\u001b[32m    317\u001b[39m \u001b[38;5;28;01melse\u001b[39;00m:\n\u001b[32m    318\u001b[39m     supported_methods = \u001b[33m\"\u001b[39m\u001b[33m, \u001b[39m\u001b[33m\"\u001b[39m.join([m.value \u001b[38;5;28;01mfor\u001b[39;00m m \u001b[38;5;129;01min\u001b[39;00m MermaidDrawMethod])\n",
      "\u001b[36mFile \u001b[39m\u001b[32mc:\\Users\\rahul\\Desktop\\Coding Assignment\\excel-interview-bot\\.venv\\Lib\\site-packages\\langchain_core\\runnables\\graph_mermaid.py:463\u001b[39m, in \u001b[36m_render_mermaid_using_api\u001b[39m\u001b[34m(mermaid_syntax, output_file_path, background_color, file_type, max_retries, retry_delay)\u001b[39m\n\u001b[32m    458\u001b[39m     \u001b[38;5;66;03m# For other status codes, fail immediately\u001b[39;00m\n\u001b[32m    459\u001b[39m     msg = (\n\u001b[32m    460\u001b[39m         \u001b[33m\"\u001b[39m\u001b[33mFailed to reach https://mermaid.ink/ API while trying to render \u001b[39m\u001b[33m\"\u001b[39m\n\u001b[32m    461\u001b[39m         \u001b[33mf\u001b[39m\u001b[33m\"\u001b[39m\u001b[33myour graph. Status code: \u001b[39m\u001b[38;5;132;01m{\u001b[39;00mresponse.status_code\u001b[38;5;132;01m}\u001b[39;00m\u001b[33m.\u001b[39m\u001b[38;5;130;01m\\n\u001b[39;00m\u001b[38;5;130;01m\\n\u001b[39;00m\u001b[33m\"\u001b[39m\n\u001b[32m    462\u001b[39m     ) + error_msg_suffix\n\u001b[32m--> \u001b[39m\u001b[32m463\u001b[39m     \u001b[38;5;28;01mraise\u001b[39;00m \u001b[38;5;167;01mValueError\u001b[39;00m(msg)\n\u001b[32m    465\u001b[39m \u001b[38;5;28;01mexcept\u001b[39;00m (requests.RequestException, requests.Timeout) \u001b[38;5;28;01mas\u001b[39;00m e:\n\u001b[32m    466\u001b[39m     \u001b[38;5;28;01mif\u001b[39;00m attempt < max_retries:\n\u001b[32m    467\u001b[39m         \u001b[38;5;66;03m# Exponential backoff with jitter\u001b[39;00m\n",
      "\u001b[31mValueError\u001b[39m: Failed to reach https://mermaid.ink/ API while trying to render your graph. Status code: 502.\n\nTo resolve this issue:\n1. Check your internet connection and try again\n2. Try with higher retry settings: `draw_mermaid_png(..., max_retries=5, retry_delay=2.0)`\n3. Use the Pyppeteer rendering method which will render your graph locally in a browser: `draw_mermaid_png(..., draw_method=MermaidDrawMethod.PYPPETEER)`"
     ]
    }
   ],
   "source": [
    "display(\n",
    "    Image(\n",
    "        compiled_wf.get_graph().draw_mermaid_png(\n",
    "            draw_method = MermaidDrawMethod.API\n",
    "        )\n",
    "    )\n",
    ")"
   ]
  },
  {
   "cell_type": "code",
   "execution_count": 8,
   "id": "2689c126",
   "metadata": {},
   "outputs": [
    {
     "name": "stdout",
     "output_type": "stream",
     "text": [
      "{'user_id': None, 'verified': None, 'verification_count': 0, 'difficulty': 5, 'question': None, 'expected_answer': None, 'answer_recieved': None, 'used_topics': [], 'question_count': 0, 'got_score': None, 'scores': [], 'difficulties': [5], 'evaluation': None, 'clarification_needed': False, 'clarifications_used': 0, 'answers_log': [], 'report': None, 'final_decision': None, 'final_message': None, '__interrupt__': [Interrupt(value={'message': 'Please enter your Email ID or Employee ID for verification (You will have 2 tries):', 'interrupt_type': 'verification', 'field': 'user_id'}, id='5282f26a68bea3f0fd4c5301d5843c34')]}\n"
     ]
    }
   ],
   "source": [
    "compiled = await build_graph()\n",
    "result = await compiled.ainvoke({}, config={\"configurable\": {\"thread_id\": 7}})\n",
    "print(result)"
   ]
  },
  {
   "cell_type": "code",
   "execution_count": 9,
   "id": "60b31f8e",
   "metadata": {},
   "outputs": [
    {
     "data": {
      "text/plain": [
       "{'user_id': None,\n",
       " 'verified': None,\n",
       " 'verification_count': 0,\n",
       " 'difficulty': 5,\n",
       " 'question': None,\n",
       " 'expected_answer': None,\n",
       " 'answer_recieved': None,\n",
       " 'used_topics': [],\n",
       " 'question_count': 0,\n",
       " 'got_score': None,\n",
       " 'scores': [],\n",
       " 'difficulties': [5],\n",
       " 'evaluation': None,\n",
       " 'clarification_needed': False,\n",
       " 'clarifications_used': 0,\n",
       " 'answers_log': [],\n",
       " 'report': None,\n",
       " 'final_decision': None,\n",
       " 'final_message': None,\n",
       " '__interrupt__': [Interrupt(value={'message': 'Please enter your Email ID or Employee ID for verification (You will have 2 tries):', 'interrupt_type': 'verification', 'field': 'user_id'}, id='5282f26a68bea3f0fd4c5301d5843c34')]}"
      ]
     },
     "execution_count": 9,
     "metadata": {},
     "output_type": "execute_result"
    }
   ],
   "source": [
    "result"
   ]
  },
  {
   "cell_type": "code",
   "execution_count": 22,
   "id": "cfa1d196",
   "metadata": {},
   "outputs": [
    {
     "data": {
      "text/plain": [
       "{'message': 'Please enter your Email ID or Employee ID for verification (You will have 2 tries):',\n",
       " 'interrupt_type': 'verification',\n",
       " 'field': 'user_id'}"
      ]
     },
     "execution_count": 22,
     "metadata": {},
     "output_type": "execute_result"
    }
   ],
   "source": [
    "result[\"__interrupt__\"][0].value"
   ]
  },
  {
   "cell_type": "code",
   "execution_count": null,
   "id": "db03273c",
   "metadata": {},
   "outputs": [],
   "source": []
  },
  {
   "cell_type": "code",
   "execution_count": 10,
   "id": "d9657893",
   "metadata": {},
   "outputs": [
    {
     "name": "stdout",
     "output_type": "stream",
     "text": [
      "[2025-09-16 22:37:30,521: INFO: _client: HTTP Request: POST https://api.openai.com/v1/chat/completions \"HTTP/1.1 200 OK\"]\n"
     ]
    }
   ],
   "source": [
    "result = await compiled.ainvoke(\n",
    "    Command(resume = \"rahulrawat272chd@gmail.com\"), \n",
    "    config = {\"configurable\": {\"thread_id\": 7}}\n",
    ")\n"
   ]
  },
  {
   "cell_type": "code",
   "execution_count": 11,
   "id": "e703d900",
   "metadata": {},
   "outputs": [
    {
     "data": {
      "text/plain": [
       "{'user_id': 'rahulrawat272chd@gmail.com',\n",
       " 'verified': True,\n",
       " 'verification_count': 1,\n",
       " 'difficulty': 5,\n",
       " 'question': 'Can you explain how to use the Solver tool in Excel to optimize a production schedule for a factory that has constraints on labor hours and material availability? Please provide a brief example of how you would set this up.',\n",
       " 'expected_answer': 'To use Solver, first define your objective cell (e.g., maximize profit), then set your decision variable cells (e.g., quantities of products to produce). Next, add constraints (e.g., total labor hours <= available hours, total materials <= available stock). Finally, run Solver to find the optimal production quantities that meet all constraints.',\n",
       " 'answer_recieved': None,\n",
       " 'used_topics': ['Goal Seek and Solver in Decision Making'],\n",
       " 'question_count': 1,\n",
       " 'got_score': None,\n",
       " 'scores': [],\n",
       " 'difficulties': [5],\n",
       " 'evaluation': None,\n",
       " 'clarification_needed': False,\n",
       " 'clarifications_used': 0,\n",
       " 'answers_log': [],\n",
       " 'report': None,\n",
       " 'final_decision': None,\n",
       " 'final_message': None,\n",
       " '__interrupt__': [Interrupt(value={'message': 'Can you explain how to use the Solver tool in Excel to optimize a production schedule for a factory that has constraints on labor hours and material availability? Please provide a brief example of how you would set this up.', 'interrupt_type': 'qna', 'field': 'answer_recieved'}, id='936e90660374b113789079b74e8b3890')]}"
      ]
     },
     "execution_count": 11,
     "metadata": {},
     "output_type": "execute_result"
    }
   ],
   "source": [
    "result"
   ]
  },
  {
   "cell_type": "code",
   "execution_count": 12,
   "id": "2ac14311",
   "metadata": {},
   "outputs": [
    {
     "name": "stdout",
     "output_type": "stream",
     "text": [
      "[2025-09-16 22:38:34,153: INFO: _client: HTTP Request: POST https://api.openai.com/v1/chat/completions \"HTTP/1.1 200 OK\"]\n",
      "[2025-09-16 22:38:37,840: INFO: _client: HTTP Request: POST https://api.openai.com/v1/chat/completions \"HTTP/1.1 200 OK\"]\n"
     ]
    }
   ],
   "source": [
    "result = await compiled.ainvoke(\n",
    "    Command(resume = \"I'd start by setting up the spreadsheet with profit as the objective function. For example, if Product A gives $40 profit and Product B gives $30 profit, I'd have an objective cell calculating total profit = (40 × units of A) + (30 × units of B). The decision variable cells would be the number of units of each product to produce. Then I'd add constraints like: total labor hours used ≤ available hours (e.g., 400), and total materials used ≤ available materials (e.g., 300). Finally, I'd open Solver, set the objective cell to maximize, changing the product quantity cells, subject to those constraints. Solver would then return the optimal mix of products to maximize profit while staying within the labor and material limits.\"), \n",
    "    config = {\"configurable\": {\"thread_id\": 7}}\n",
    ")\n"
   ]
  },
  {
   "cell_type": "code",
   "execution_count": 13,
   "id": "0092958a",
   "metadata": {},
   "outputs": [
    {
     "data": {
      "text/plain": [
       "{'user_id': 'rahulrawat272chd@gmail.com',\n",
       " 'verified': True,\n",
       " 'verification_count': 1,\n",
       " 'difficulty': 6,\n",
       " 'question': 'Can you explain the differences between VLOOKUP, INDEX-MATCH, and XLOOKUP in terms of their flexibility and use cases? When would you prefer to use one over the others?',\n",
       " 'expected_answer': 'VLOOKUP is limited to searching from left to right and requires the lookup value to be in the first column. INDEX-MATCH allows for more flexibility by enabling lookups in any direction. XLOOKUP, the most versatile, can search both vertically and horizontally, and it handles errors more gracefully. I would prefer XLOOKUP for its simplicity and power, especially in complex datasets.',\n",
       " 'answer_recieved': None,\n",
       " 'used_topics': ['Goal Seek and Solver in Decision Making',\n",
       "  'Use of VLOOKUP vs INDEX-MATCH vs XLOOKUP'],\n",
       " 'question_count': 2,\n",
       " 'got_score': None,\n",
       " 'scores': [8],\n",
       " 'difficulties': [5, 6],\n",
       " 'evaluation': None,\n",
       " 'clarification_needed': False,\n",
       " 'clarifications_used': 0,\n",
       " 'answers_log': [{'q': 'Can you explain how to use the Solver tool in Excel to optimize a production schedule for a factory that has constraints on labor hours and material availability? Please provide a brief example of how you would set this up.',\n",
       "   'e_ans': 'To use Solver, first define your objective cell (e.g., maximize profit), then set your decision variable cells (e.g., quantities of products to produce). Next, add constraints (e.g., total labor hours <= available hours, total materials <= available stock). Finally, run Solver to find the optimal production quantities that meet all constraints.',\n",
       "   'ans': \"I'd start by setting up the spreadsheet with profit as the objective function. For example, if Product A gives $40 profit and Product B gives $30 profit, I'd have an objective cell calculating total profit = (40 × units of A) + (30 × units of B). The decision variable cells would be the number of units of each product to produce. Then I'd add constraints like: total labor hours used ≤ available hours (e.g., 400), and total materials used ≤ available materials (e.g., 300). Finally, I'd open Solver, set the objective cell to maximize, changing the product quantity cells, subject to those constraints. Solver would then return the optimal mix of products to maximize profit while staying within the labor and material limits.\",\n",
       "   'eval': 'Good explanation with clear steps and examples.',\n",
       "   'score': 8}],\n",
       " 'report': None,\n",
       " 'final_decision': None,\n",
       " 'final_message': None,\n",
       " '__interrupt__': [Interrupt(value={'message': 'Can you explain the differences between VLOOKUP, INDEX-MATCH, and XLOOKUP in terms of their flexibility and use cases? When would you prefer to use one over the others?', 'interrupt_type': 'qna', 'field': 'answer_recieved'}, id='f2da5e72af2522062dff69cd975bc9e5')]}"
      ]
     },
     "execution_count": 13,
     "metadata": {},
     "output_type": "execute_result"
    }
   ],
   "source": [
    "result"
   ]
  },
  {
   "cell_type": "code",
   "execution_count": 14,
   "id": "dda02e55",
   "metadata": {},
   "outputs": [
    {
     "name": "stdout",
     "output_type": "stream",
     "text": [
      "[2025-09-16 22:39:34,524: INFO: _client: HTTP Request: POST https://api.openai.com/v1/chat/completions \"HTTP/1.1 200 OK\"]\n",
      "[2025-09-16 22:39:36,760: INFO: _client: HTTP Request: POST https://api.openai.com/v1/chat/completions \"HTTP/1.1 200 OK\"]\n"
     ]
    }
   ],
   "source": [
    "result = await compiled.ainvoke(\n",
    "    Command(resume = \"VLOOKUP is simple and quick to use but limited because it can only search left to right. INDEX-MATCH is more flexible, as it can look in any direction and works better when columns get rearranged. XLOOKUP is the modern replacement, which allows both vertical and horizontal lookups, has built-in error handling, and is easier to read. I'd use VLOOKUP for small, simple tables, INDEX-MATCH if I need flexibility with column positions, and XLOOKUP for complex or modern spreadsheets where reliability and simplicity matter.\"), \n",
    "    config = {\"configurable\": {\"thread_id\": 7}}\n",
    ")\n"
   ]
  },
  {
   "cell_type": "code",
   "execution_count": 15,
   "id": "0a279694",
   "metadata": {},
   "outputs": [
    {
     "data": {
      "text/plain": [
       "{'user_id': 'rahulrawat272chd@gmail.com',\n",
       " 'verified': True,\n",
       " 'verification_count': 1,\n",
       " 'difficulty': 7,\n",
       " 'question': 'Can you explain the differences between VLOOKUP, INDEX-MATCH, and XLOOKUP in terms of their flexibility and use cases? When would you prefer to use one over the others?',\n",
       " 'expected_answer': 'VLOOKUP is limited to searching from left to right and requires the lookup value to be in the first column. INDEX-MATCH allows for more flexibility by enabling lookups in any direction. XLOOKUP, the most versatile, can search both vertically and horizontally, and it handles errors more gracefully. I would prefer XLOOKUP for its simplicity and power, especially in complex datasets.',\n",
       " 'answer_recieved': \"VLOOKUP is simple and quick to use but limited because it can only search left to right. INDEX-MATCH is more flexible, as it can look in any direction and works better when columns get rearranged. XLOOKUP is the modern replacement, which allows both vertical and horizontal lookups, has built-in error handling, and is easier to read. I'd use VLOOKUP for small, simple tables, INDEX-MATCH if I need flexibility with column positions, and XLOOKUP for complex or modern spreadsheets where reliability and simplicity matter.\",\n",
       " 'used_topics': ['Goal Seek and Solver in Decision Making',\n",
       "  'Use of VLOOKUP vs INDEX-MATCH vs XLOOKUP'],\n",
       " 'question_count': 2,\n",
       " 'got_score': 8,\n",
       " 'scores': [8, 8],\n",
       " 'difficulties': [5, 6],\n",
       " 'evaluation': 'Good explanation with clear distinctions between functions.',\n",
       " 'clarification_needed': False,\n",
       " 'clarifications_used': 0,\n",
       " 'answers_log': [{'q': 'Can you explain how to use the Solver tool in Excel to optimize a production schedule for a factory that has constraints on labor hours and material availability? Please provide a brief example of how you would set this up.',\n",
       "   'e_ans': 'To use Solver, first define your objective cell (e.g., maximize profit), then set your decision variable cells (e.g., quantities of products to produce). Next, add constraints (e.g., total labor hours <= available hours, total materials <= available stock). Finally, run Solver to find the optimal production quantities that meet all constraints.',\n",
       "   'ans': \"I'd start by setting up the spreadsheet with profit as the objective function. For example, if Product A gives $40 profit and Product B gives $30 profit, I'd have an objective cell calculating total profit = (40 × units of A) + (30 × units of B). The decision variable cells would be the number of units of each product to produce. Then I'd add constraints like: total labor hours used ≤ available hours (e.g., 400), and total materials used ≤ available materials (e.g., 300). Finally, I'd open Solver, set the objective cell to maximize, changing the product quantity cells, subject to those constraints. Solver would then return the optimal mix of products to maximize profit while staying within the labor and material limits.\",\n",
       "   'eval': 'Good explanation with clear steps and examples.',\n",
       "   'score': 8},\n",
       "  {'q': 'Can you explain the differences between VLOOKUP, INDEX-MATCH, and XLOOKUP in terms of their flexibility and use cases? When would you prefer to use one over the others?',\n",
       "   'e_ans': 'VLOOKUP is limited to searching from left to right and requires the lookup value to be in the first column. INDEX-MATCH allows for more flexibility by enabling lookups in any direction. XLOOKUP, the most versatile, can search both vertically and horizontally, and it handles errors more gracefully. I would prefer XLOOKUP for its simplicity and power, especially in complex datasets.',\n",
       "   'ans': \"VLOOKUP is simple and quick to use but limited because it can only search left to right. INDEX-MATCH is more flexible, as it can look in any direction and works better when columns get rearranged. XLOOKUP is the modern replacement, which allows both vertical and horizontal lookups, has built-in error handling, and is easier to read. I'd use VLOOKUP for small, simple tables, INDEX-MATCH if I need flexibility with column positions, and XLOOKUP for complex or modern spreadsheets where reliability and simplicity matter.\",\n",
       "   'eval': 'Good explanation with clear distinctions between functions.',\n",
       "   'score': 8}],\n",
       " 'report': 'The candidate demonstrated a solid understanding of Excel functionalities, particularly in using the Solver tool and differentiating between various lookup functions. Their answers were well-structured, providing clear examples and explanations that showcased their knowledge and practical application of Excel features. The candidate scored consistently high in both questions, indicating a strong grasp of the material.',\n",
       " 'final_decision': 'pass',\n",
       " 'final_message': 'Your report and result have been uploaded to the system, based on your result HR will contact within 2-3 working days. Thank You.'}"
      ]
     },
     "execution_count": 15,
     "metadata": {},
     "output_type": "execute_result"
    }
   ],
   "source": [
    "result"
   ]
  },
  {
   "cell_type": "code",
   "execution_count": null,
   "id": "61c7a869",
   "metadata": {},
   "outputs": [],
   "source": []
  }
 ],
 "metadata": {
  "kernelspec": {
   "display_name": ".venv",
   "language": "python",
   "name": "python3"
  },
  "language_info": {
   "codemirror_mode": {
    "name": "ipython",
    "version": 3
   },
   "file_extension": ".py",
   "mimetype": "text/x-python",
   "name": "python",
   "nbconvert_exporter": "python",
   "pygments_lexer": "ipython3",
   "version": "3.11.8"
  }
 },
 "nbformat": 4,
 "nbformat_minor": 5
}

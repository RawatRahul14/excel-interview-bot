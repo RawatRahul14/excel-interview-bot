{
 "cells": [
  {
   "cell_type": "code",
   "execution_count": 1,
   "id": "f8950486",
   "metadata": {},
   "outputs": [],
   "source": [
    "from langgraph.types import Command\n",
    "import os\n",
    "os.chdir(\"../\")"
   ]
  },
  {
   "cell_type": "code",
   "execution_count": 2,
   "id": "6ec87ed4",
   "metadata": {},
   "outputs": [],
   "source": [
    "from interviewBot.graph import build_graph, build_workflow"
   ]
  },
  {
   "cell_type": "code",
   "execution_count": 3,
   "id": "766ce454",
   "metadata": {},
   "outputs": [],
   "source": [
    "wf = build_workflow()\n",
    "compiled_wf = wf.compile()"
   ]
  },
  {
   "cell_type": "code",
   "execution_count": 4,
   "id": "95f41e08",
   "metadata": {},
   "outputs": [
    {
     "name": "stdout",
     "output_type": "stream",
     "text": [
      "Nodes: dict_keys(['__start__', 'init_sess_node', 'user_verify_interrupt_node', 'user_verify_node'])\n"
     ]
    }
   ],
   "source": [
    "print(\"Nodes:\", compiled_wf.nodes.keys())"
   ]
  },
  {
   "cell_type": "code",
   "execution_count": 5,
   "id": "fd4e13a0",
   "metadata": {},
   "outputs": [
    {
     "name": "stdout",
     "output_type": "stream",
     "text": [
      "---\n",
      "config:\n",
      "  flowchart:\n",
      "    curve: linear\n",
      "---\n",
      "graph TD;\n",
      "\t__start__([<p>__start__</p>]):::first\n",
      "\tinit_sess_node(init_sess_node)\n",
      "\tuser_verify_interrupt_node(user_verify_interrupt_node)\n",
      "\tuser_verify_node(user_verify_node)\n",
      "\t__end__([<p>__end__</p>]):::last\n",
      "\t__start__ --> init_sess_node;\n",
      "\tinit_sess_node --> user_verify_interrupt_node;\n",
      "\tuser_verify_interrupt_node --> user_verify_node;\n",
      "\tuser_verify_node --> __end__;\n",
      "\tclassDef default fill:#f2f0ff,line-height:1.2\n",
      "\tclassDef first fill-opacity:0\n",
      "\tclassDef last fill:#bfb6fc\n",
      "\n"
     ]
    }
   ],
   "source": [
    "print(compiled_wf.get_graph().draw_mermaid())"
   ]
  },
  {
   "cell_type": "code",
   "execution_count": 6,
   "id": "e25de483",
   "metadata": {},
   "outputs": [],
   "source": [
    "from IPython.display import display, Image\n",
    "from langchain_core.runnables.graph import MermaidDrawMethod"
   ]
  },
  {
   "cell_type": "code",
   "execution_count": 7,
   "id": "e53ef728",
   "metadata": {},
   "outputs": [
    {
     "data": {
      "image/png": "[encoded data removed]",
      "text/plain": [
       "<IPython.core.display.Image object>"
      ]
     },
     "metadata": {},
     "output_type": "display_data"
    }
   ],
   "source": [
    "display(\n",
    "    Image(\n",
    "        compiled_wf.get_graph().draw_mermaid_png(\n",
    "            draw_method = MermaidDrawMethod.API\n",
    "        )\n",
    "    )\n",
    ")"
   ]
  },
  {
   "cell_type": "code",
   "execution_count": 8,
   "id": "2689c126",
   "metadata": {},
   "outputs": [
    {
     "name": "stdout",
     "output_type": "stream",
     "text": [
      "{'user_id': None, 'verified': None, 'verification_count': 0, 'difficulty': 5, 'question_count': 0, 'scores': [], 'difficulties': [5], 'clarification_needed': False, 'clarifications_used': 0, 'answers_log': [], 'final_decision': None, '__interrupt__': [Interrupt(value={'message': 'Please enter your Email ID or Employee ID for verification (You will have 2 tries):', 'interrupt_type': 'verification', 'field': 'user_id'}, id='f267ecc3be09accca1bed357acd34aa6')]}\n"
     ]
    }
   ],
   "source": [
    "compiled = await build_graph()\n",
    "result = await compiled.ainvoke({}, config={\"configurable\": {\"thread_id\": 5}})\n",
    "print(result)"
   ]
  },
  {
   "cell_type": "code",
   "execution_count": 9,
   "id": "60b31f8e",
   "metadata": {},
   "outputs": [
    {
     "data": {
      "text/plain": [
       "{'user_id': None,\n",
       " 'verified': None,\n",
       " 'verification_count': 0,\n",
       " 'difficulty': 5,\n",
       " 'question_count': 0,\n",
       " 'scores': [],\n",
       " 'difficulties': [5],\n",
       " 'clarification_needed': False,\n",
       " 'clarifications_used': 0,\n",
       " 'answers_log': [],\n",
       " 'final_decision': None,\n",
       " '__interrupt__': [Interrupt(value={'message': 'Please enter your Email ID or Employee ID for verification (You will have 2 tries):', 'interrupt_type': 'verification', 'field': 'user_id'}, id='f267ecc3be09accca1bed357acd34aa6')]}"
      ]
     },
     "execution_count": 9,
     "metadata": {},
     "output_type": "execute_result"
    }
   ],
   "source": [
    "result"
   ]
  },
  {
   "cell_type": "code",
   "execution_count": 10,
   "id": "1590d324",
   "metadata": {},
   "outputs": [],
   "source": [
    "result = await compiled.ainvoke(\n",
    "    Command(resume = \"rahulrawat272chd@gmail.com\"), \n",
    "    config = {\"configurable\": {\"thread_id\": 5}}\n",
    ")\n"
   ]
  },
  {
   "cell_type": "code",
   "execution_count": 11,
   "id": "764ef1f7",
   "metadata": {},
   "outputs": [
    {
     "data": {
      "text/plain": [
       "{'user_id': 'rahulrawat272chd@gmail.com',\n",
       " 'verified': True,\n",
       " 'verification_count': 1,\n",
       " 'difficulty': 5,\n",
       " 'question_count': 0,\n",
       " 'scores': [],\n",
       " 'difficulties': [5],\n",
       " 'clarification_needed': False,\n",
       " 'clarifications_used': 0,\n",
       " 'answers_log': [],\n",
       " 'final_decision': None}"
      ]
     },
     "execution_count": 11,
     "metadata": {},
     "output_type": "execute_result"
    }
   ],
   "source": [
    "result"
   ]
  },
  {
   "cell_type": "code",
   "execution_count": null,
   "id": "f64877d0",
   "metadata": {},
   "outputs": [],
   "source": []
  },
  {
   "cell_type": "code",
   "execution_count": null,
   "id": "d9657893",
   "metadata": {},
   "outputs": [],
   "source": []
  }
 ],
 "metadata": {
  "kernelspec": {
   "display_name": ".venv",
   "language": "python",
   "name": "python3"
  },
  "language_info": {
   "codemirror_mode": {
    "name": "ipython",
    "version": 3
   },
   "file_extension": ".py",
   "mimetype": "text/x-python",
   "name": "python",
   "nbconvert_exporter": "python",
   "pygments_lexer": "ipython3",
   "version": "3.11.8"
  }
 },
 "nbformat": 4,
 "nbformat_minor": 5
}

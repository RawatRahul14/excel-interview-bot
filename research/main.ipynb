{
 "cells": [
  {
   "cell_type": "code",
   "execution_count": 1,
   "id": "f8950486",
   "metadata": {},
   "outputs": [],
   "source": [
    "import os\n",
    "os.chdir(\"../\")"
   ]
  },
  {
   "cell_type": "code",
   "execution_count": 2,
   "id": "6ec87ed4",
   "metadata": {},
   "outputs": [],
   "source": [
    "from interviewBot.graph import build_graph, build_workflow"
   ]
  },
  {
   "cell_type": "code",
   "execution_count": 3,
   "id": "766ce454",
   "metadata": {},
   "outputs": [],
   "source": [
    "wf = build_workflow()\n",
    "compiled_wf = wf.compile()"
   ]
  },
  {
   "cell_type": "code",
   "execution_count": 4,
   "id": "e25de483",
   "metadata": {},
   "outputs": [],
   "source": [
    "from IPython.display import display, Image\n",
    "from langchain_core.runnables.graph import MermaidDrawMethod"
   ]
  },
  {
   "cell_type": "code",
   "execution_count": 5,
   "id": "e53ef728",
   "metadata": {},
   "outputs": [
    {
     "data": {
      "image/png": "[encoded data removed]",
      "text/plain": [
       "<IPython.core.display.Image object>"
      ]
     },
     "metadata": {},
     "output_type": "display_data"
    }
   ],
   "source": [
    "display(\n",
    "    Image(\n",
    "        compiled_wf.get_graph().draw_mermaid_png(\n",
    "            draw_method = MermaidDrawMethod.API\n",
    "        )\n",
    "    )\n",
    ")"
   ]
  },
  {
   "cell_type": "code",
   "execution_count": 7,
   "id": "2689c126",
   "metadata": {},
   "outputs": [
    {
     "name": "stdout",
     "output_type": "stream",
     "text": [
      "{'user_id': None, 'difficulty': 5, 'question_count': 0, 'scores': [], 'difficulties': [5], 'clarification_needed': False, 'clarifications_used': 0, 'answers_log': [], 'final_decision': None}\n"
     ]
    }
   ],
   "source": [
    "compiled = await build_graph()\n",
    "result = await compiled.ainvoke({}, config={\"configurable\": {\"thread_id\": 1}})\n",
    "print(result)"
   ]
  },
  {
   "cell_type": "code",
   "execution_count": 8,
   "id": "60b31f8e",
   "metadata": {},
   "outputs": [
    {
     "data": {
      "text/plain": [
       "{'user_id': None,\n",
       " 'difficulty': 5,\n",
       " 'question_count': 0,\n",
       " 'scores': [],\n",
       " 'difficulties': [5],\n",
       " 'clarification_needed': False,\n",
       " 'clarifications_used': 0,\n",
       " 'answers_log': [],\n",
       " 'final_decision': None}"
      ]
     },
     "execution_count": 8,
     "metadata": {},
     "output_type": "execute_result"
    }
   ],
   "source": [
    "result"
   ]
  },
  {
   "cell_type": "code",
   "execution_count": null,
   "id": "1590d324",
   "metadata": {},
   "outputs": [],
   "source": []
  }
 ],
 "metadata": {
  "kernelspec": {
   "display_name": ".venv",
   "language": "python",
   "name": "python3"
  },
  "language_info": {
   "codemirror_mode": {
    "name": "ipython",
    "version": 3
   },
   "file_extension": ".py",
   "mimetype": "text/x-python",
   "name": "python",
   "nbconvert_exporter": "python",
   "pygments_lexer": "ipython3",
   "version": "3.11.8"
  }
 },
 "nbformat": 4,
 "nbformat_minor": 5
}
